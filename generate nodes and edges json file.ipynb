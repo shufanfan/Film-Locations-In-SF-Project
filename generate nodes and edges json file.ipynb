{
 "cells": [
  {
   "cell_type": "code",
   "execution_count": 1,
   "id": "0cfa47d9",
   "metadata": {},
   "outputs": [],
   "source": [
    "import pandas as pd\n",
    "import json\n",
    "from collections import defaultdict\n",
    "import itertools"
   ]
  },
  {
   "cell_type": "code",
   "execution_count": 18,
   "id": "44a140e1",
   "metadata": {},
   "outputs": [],
   "source": [
    "df = pd.read_csv(\"SF_movie_IMDBratings.csv\")\n",
    "df = df[~df[\"genres\"].str.contains(r\"\\\\N\", na=False)]"
   ]
  },
  {
   "cell_type": "code",
   "execution_count": 19,
   "id": "b68f32d6",
   "metadata": {},
   "outputs": [],
   "source": [
    "nodes = {}\n",
    "edges = defaultdict(int)"
   ]
  },
  {
   "cell_type": "code",
   "execution_count": 20,
   "id": "fc2373b3",
   "metadata": {},
   "outputs": [],
   "source": [
    "genre_to_group = {}\n",
    "group_counter = 1 "
   ]
  },
  {
   "cell_type": "code",
   "execution_count": 21,
   "id": "a807858a",
   "metadata": {},
   "outputs": [],
   "source": [
    "for genres in df[\"genres\"]:\n",
    "    genre_list = [m.strip() for m in genres.split(\",\") if m.strip()]\n",
    "\n",
    "    for m in genre_list:\n",
    "        \n",
    "        if m not in genre_to_group:\n",
    "            genre_to_group[m] = group_counter\n",
    "            group_counter += 1\n",
    "        \n",
    "        if m not in nodes:\n",
    "            nodes[m] = {\n",
    "                \"id\": m,\n",
    "                \"group\": genre_to_group[m],\n",
    "                \"weight\": 1\n",
    "            }\n",
    "        else:\n",
    "            nodes[m][\"weight\"] += 1\n",
    "\n",
    "    \n",
    "    for m1, m2 in itertools.combinations(sorted(set(genre_list)), 2):\n",
    "        edges[(m1, m2)] += 1"
   ]
  },
  {
   "cell_type": "code",
   "execution_count": 22,
   "id": "3cc80fde",
   "metadata": {},
   "outputs": [],
   "source": [
    "json_data = {\n",
    "    \"nodes\": list(nodes.values()),\n",
    "    \"links\": [{\"source\": k[0], \"target\": k[1], \"value\": v} for k, v in edges.items()]\n",
    "}"
   ]
  },
  {
   "cell_type": "code",
   "execution_count": 23,
   "id": "a3fe812c",
   "metadata": {},
   "outputs": [],
   "source": [
    "with open(\"movie_genres.json\", \"w\") as f:\n",
    "    json.dump(json_data, f, indent=4)"
   ]
  },
  {
   "cell_type": "code",
   "execution_count": null,
   "id": "7870fcfb",
   "metadata": {},
   "outputs": [],
   "source": []
  }
 ],
 "metadata": {
  "kernelspec": {
   "display_name": "Python 3 (ipykernel)",
   "language": "python",
   "name": "python3"
  },
  "language_info": {
   "codemirror_mode": {
    "name": "ipython",
    "version": 3
   },
   "file_extension": ".py",
   "mimetype": "text/x-python",
   "name": "python",
   "nbconvert_exporter": "python",
   "pygments_lexer": "ipython3",
   "version": "3.9.18"
  }
 },
 "nbformat": 4,
 "nbformat_minor": 5
}
