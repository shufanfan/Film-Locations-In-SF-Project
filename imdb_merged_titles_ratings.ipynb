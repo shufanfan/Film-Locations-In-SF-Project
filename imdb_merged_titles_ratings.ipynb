{
 "cells": [
  {
   "cell_type": "code",
   "execution_count": 17,
   "id": "0ecb8b87",
   "metadata": {},
   "outputs": [],
   "source": [
    "import pandas as pd"
   ]
  },
  {
   "cell_type": "code",
   "execution_count": 18,
   "id": "723c502a",
   "metadata": {},
   "outputs": [],
   "source": [
    "ratings_df = pd.read_csv(\"title.ratings.tsv\", sep=\"\\t\", dtype=str)\n",
    "titles_df = pd.read_csv(\"title.basics.tsv\", sep=\"\\t\", dtype=str)"
   ]
  },
  {
   "cell_type": "code",
   "execution_count": 19,
   "id": "b0db641f",
   "metadata": {},
   "outputs": [],
   "source": [
    "merged_df = pd.merge(titles_df, ratings_df, on=\"tconst\", how=\"inner\")"
   ]
  },
  {
   "cell_type": "code",
   "execution_count": 20,
   "id": "11b120cf",
   "metadata": {},
   "outputs": [],
   "source": [
    "result_df = merged_df[[\"primaryTitle\", \"genres\", \"averageRating\",\"titleType\"]]"
   ]
  },
  {
   "cell_type": "code",
   "execution_count": 21,
   "id": "81cd68b5",
   "metadata": {},
   "outputs": [],
   "source": [
    "result_df.to_csv(\"imdb_merged_titles_ratings.csv\", index=False)"
   ]
  },
  {
   "cell_type": "code",
   "execution_count": 22,
   "id": "bb23cef6",
   "metadata": {},
   "outputs": [],
   "source": [
    "imdb_df = pd.read_csv(\"imdb_merged_titles_ratings.csv\")"
   ]
  },
  {
   "cell_type": "code",
   "execution_count": 23,
   "id": "d7c3fb58",
   "metadata": {},
   "outputs": [],
   "source": [
    "movies_df = imdb_df[imdb_df[\"titleType\"].str.lower() == \"movie\"]"
   ]
  },
  {
   "cell_type": "code",
   "execution_count": 24,
   "id": "f00a3370",
   "metadata": {},
   "outputs": [],
   "source": [
    "movies_df = movies_df.drop_duplicates(subset=\"primaryTitle\", keep=\"first\")"
   ]
  },
  {
   "cell_type": "code",
   "execution_count": 25,
   "id": "36b10caf",
   "metadata": {},
   "outputs": [],
   "source": [
    "movies_df = movies_df.reset_index(drop=True)"
   ]
  },
  {
   "cell_type": "code",
   "execution_count": 26,
   "id": "3dc24a26",
   "metadata": {},
   "outputs": [],
   "source": [
    "movies_df.to_csv(\"imdb_movie_rating.csv\", index=False)"
   ]
  },
  {
   "cell_type": "code",
   "execution_count": null,
   "id": "41739959",
   "metadata": {},
   "outputs": [],
   "source": []
  }
 ],
 "metadata": {
  "kernelspec": {
   "display_name": "Python 3 (ipykernel)",
   "language": "python",
   "name": "python3"
  },
  "language_info": {
   "codemirror_mode": {
    "name": "ipython",
    "version": 3
   },
   "file_extension": ".py",
   "mimetype": "text/x-python",
   "name": "python",
   "nbconvert_exporter": "python",
   "pygments_lexer": "ipython3",
   "version": "3.9.18"
  }
 },
 "nbformat": 4,
 "nbformat_minor": 5
}
