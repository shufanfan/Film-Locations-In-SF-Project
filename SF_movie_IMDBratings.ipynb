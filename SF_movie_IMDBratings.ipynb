{
 "cells": [
  {
   "cell_type": "code",
   "execution_count": 12,
   "id": "92b68f96",
   "metadata": {},
   "outputs": [],
   "source": [
    "import pandas as pd"
   ]
  },
  {
   "cell_type": "code",
   "execution_count": 13,
   "id": "368cd292",
   "metadata": {},
   "outputs": [],
   "source": [
    "df = pd.read_csv(\"Film_Locations_in_San_Francisco.csv\") "
   ]
  },
  {
   "cell_type": "code",
   "execution_count": 14,
   "id": "f1cf3ffe",
   "metadata": {},
   "outputs": [],
   "source": [
    "unique_titles = df[\"Title\"].drop_duplicates()"
   ]
  },
  {
   "cell_type": "code",
   "execution_count": 15,
   "id": "f19893db",
   "metadata": {},
   "outputs": [],
   "source": [
    "unique_titles_list = unique_titles.tolist()"
   ]
  },
  {
   "cell_type": "code",
   "execution_count": 16,
   "id": "bd8f6322",
   "metadata": {},
   "outputs": [
    {
     "name": "stdout",
     "output_type": "stream",
     "text": [
      "['Always Be My Maybe', 'DEVS', 'Faces of Death', 'Romeo Must Die', 'San Andreas', 'The Organization', 'Chance- Season 1 ep103', 'Getting Even with Dad', 'Night of Henna', 'The Matrix Resurrections', 'The Towering Inferno', 'Fearless', 'The Phone/Jexi', 'Pacific Heights', 'Sense8', 'Steve Jobs', 'Looking Season 2 ep 209', 'A View to a Kill', 'Looking', 'Chance- Season 1 ep102', 'Memoirs of an Invisible Man', 'GirlBoss', 'Looking Season 2 ep 204', 'Time After Time', 'Experiment in Terror', 'The Bachelor', 'Venom', 'Tales of the City', 'Dirty Harry', 'Chef Dynasty: House of Fang', 'Milk', 'The Diary of a Teenage Girl', 'Terminator - Genisys', 'Cherish', 'Forrest Gump', 'The OA Part II', 'Nash Bridges', 'The Love Bug', 'Chance - Season 1 ep105', 'Murder in the First, Season 1', 'The House on Telegraph Hill', 'Quitters', 'Murder in the First, Season 2', 'Sonic the Hedgehog', 'Boys and Girls', 'Chance- Season 1 ep110', 'Sense8 - Season 2', 'Bullitt', 'Bicentennial Man', 'Murder in the First, Season 3', 'Petulia', 'So I Married an Axe Murderer', 'Invasion of the Body Snatchers', 'Ant-Man and the Wasp', 'Sweet November', 'Need For Speed', 'Doctor Dolittle', 'Alive', 'Magnum Force', 'The Maltese Falcon', '180', 'The Dead Pool', 'Women is Losers', 'Blue Jasmine', \"Guess Who's Coming to Dinner\", 'The Nightmare Before Christmas', 'When We Rise', 'Under the Tuscan Sun', 'Play it Again, Sam', 'Freebie and the Bean', 'After the Thin Man', 'Smile Again, Jenny Lee', 'Edtv', 'A Taiwanese Tale of Two Cities', 'Vertigo', 'Shang-Chi and the Legend of the Ten Rings', 'Looking Season 2 ep 208', 'Woman on the Run', 'Star Trek VI: The Undiscovered Country', 'Chance- Season 1 ep104', 'Chance Season 2', 'Venom: Let There Be Carnage', 'Goliath- Season 4', 'Patch Adams', 'Shit and Champagne', 'The Doors', 'Looking Season 2 ep 210', 'George of the Jungle', 'Surface', 'The Rock', 'Godzilla', 'It Came From Beneath the Sea', 'The Lineup', 'My Big Fat Chinese Christmas', 'Age of Adaline', 'Sister Act 2: Back in the Habit', 'Americana', 'Big Trouble in Little China', 'Super Pumped: The Battle for Uber', 'Groove', 'Ant-Man and the Wasp: Quantumania', 'The Caine Mutiny', 'The Presidio', 'Greed', 'Pal Joey', 'The Internship', 'Sudden Impact', 'Etruscan Smile', 'Chance - Season 1 Pilot', 'Big Eyes', 'Chance- Season 1 ep109', 'The Woman In Red', 'The Princess Diaries', 'Alcatraz', 'Foul Play', 'Nine Months', 'Serial', 'Junior', 'The Game', 'Hulk', 'The Conversation', 'Mrs. Doubtfire', 'Budding Prospects, Pilot', 'Looking Season 2 ep 202', '50 First Dates', 'Tweek City', 'Looking Season 2 ep 206', 'D.O.A', 'Love & Taxes', 'By Hook or By Crook', 'Bitter Melon', 'I’m A Virgo', 'Final Analysis', 'Summertime', 'The Net', 'Big Sur', 'Hard to Hold', 'Ballers Season 3', 'Confessions of a Burning Man', 'High Crimes', 'Chance- Season 1 ep107', 'The Competition', 'Rollerball', 'This Is Us', 'The Last Black Man in San Francisco', 'A Jitney Elopement', 'The Core', 'Sudden Fear', 'The Enforcer', 'Golden Gate', 'Escape From Alcatraz', 'Joy Luck Club', 'The Graduate', 'Beautiful Boy', \"Alexander's Ragtime Band\", 'Vegas in Space', 'Star Trek IV: The Voyage Home', 'About a Boy', 'Looking \"Special\"', 'Street Music', 'Class Action', 'Mother', 'Live Nude Girls Unite', 'The Last Thing He Told Me', 'To the Ends of the Earth', 'Dim Sum: A Little Bit of Heart', 'Earth Mama', 'Basic Instinct', 'Just Like Heaven', 'High Anxiety', 'Kamikaze Hearts', 'Hereafter', 'Pushing Dead', 'Family Plot', 'I Am Michael', 'True Believer', 'San Francisco', 'When a Man Loves a Woman', 'Burglar', 'Take the Money and Run', 'Dream for an Insomniac', 'Rent', 'Birth of the Dragon', 'Common Threads: Stories From the Quilt', 'The Assassination of Richard Nixon', 'Chance- Season 1 ep108', 'Copycat', 'Chu Chu and the Philly Flash', 'The Fog of War', 'Chance- Season 1 ep106', 'Zodiac', 'Ant-Man', 'The Lady from Shanghai', 'The Pursuit of Happyness', 'Looking Season 2 ep 205', 'Looking Season 2 ep 203', 'Nine to Five', 'Quicksilver', 'Mona Lisa Smile', 'The Other Sister', 'Point Blank', 'Dawn of the Planet of the Apes', 'Red Widow', 'Dr. Dolittle 2', 'Shattered', 'Metro', 'Sausalito', \"What's Up Doc?\", 'The Laughing Policeman', 'Dopamine', 'Good NeighborSam', 'Dark Passage', 'Never Die Twice', 'Jagged Edge', 'The Master', 'Maxie', 'Casualties of War', 'Shadow of the Thin Man', 'Bedazzled', 'I Remember Mama', 'The Wedding Planner', 'A Night Full of Rain', 'Jade', 'Innerspace', 'Silicon Valley Season 4', 'Tucker: The Man and His Dream', 'Herbie Rides Again', 'Parks and Recreation', 'Heart and Souls', 'Clickbait', 'How Stella Got Her Groove Back', 'Playing Mona Lisa', \"Fathers' Day\", 'Flubber', 'What the Bleep Do We Know', 'Around the Fire', 'Patty Hearst', 'Blindspotting (Season 2)', 'Nina Takes a Lover', 'Broken-A Modern Love Story', 'CSI: NY- episode 903', 'Psych-Out', 'The Californians', 'Phenomenon', 'All About Eve', 'Beaches', 'On the Road', 'Cardinal X', 'Twisted', 'Chan is Missing', 'Heart Beat', 'Looking Season 2 ep 207', 'Knife Fight', 'A Smile Like Yours', 'The Right Stuff', 'Serendipity', 'Pleasure of His Company', 'American Graffiti', 'The Candidate', 'Days of Wine and Roses', 'Nora Prentiss', 'Chance - Season 1ep105', 'Birdman of Alcatraz', 'Interview With The Vampire', 'Tin Cup', 'Stigmata', 'Homeward Bound II: Lost in San Francisco', '40 Days and 40 Nights', 'City of Angels', 'James and the Giant Peach', 'Midnight Lace', 'Indiana Jones and the Last Crusade', 'Thief of Hearts', 'Sphere', 'Haiku Tunnel', 'What Dreams May Come', 'They Call Me MISTER Tibbs', 'Seven Girlfriends', 'Bee Season', 'Shoot the Moon', 'The Jazz Singer', 'Raising Cain', 'Hemingway & Gelhorn', 'Flower Drum Song', 'Swing', 'On the Beach', 'Desperate Measures', 'Gentleman Jim', 'Panther', 'Mission (aka City of Bars)', 'Superman', 'The Zodiac', 'Fat Man and Little Boy', 'Hello Frisco, Hello', 'The Sweetest Thing', 'Marnie', 'God is a Communist?* (show me heart universe)', 'House of Sand and Fog', 'Crackers', 'Yours, Mine and Ours', 'Jack', 'Harold and Maude', 'The Birds', 'Sneakers', 'Dream with the Fishes', 'Red Diaper Baby', \"I's\", '48 Hours', 'The Parent Trap', 'Dying Young', 'American Yearbook', 'Star Trek II : The Wrath of Khan', 'Happy Gilmore', 'The Matrix', \"Can't Stop the Music\", 'The Doctor', 'The Fan', \"Swingin' Along\", 'The Ten Commandments', 'Julie and Jack', 'Pretty Woman', 'Attack of the Killer Tomatoes', 'The Last of the Gladiators', 'The Bridge', 'Barbary Coast', 'Sister Act', 'Just One Night', 'Another 48 Hours', 'Down Periscope', 'Woman on Top', 'Fandom', 'Babies', 'The Times of Harvey Milk', 'Until the End of the World', 'Susan Slade', '24 Hours on Craigslist']\n"
     ]
    }
   ],
   "source": [
    "print(unique_titles_list)"
   ]
  },
  {
   "cell_type": "code",
   "execution_count": 17,
   "id": "b881e4d1",
   "metadata": {},
   "outputs": [],
   "source": [
    "imdb_df = pd.read_csv(\"imdb_movie_rating.csv\")"
   ]
  },
  {
   "cell_type": "code",
   "execution_count": 18,
   "id": "aafaf414",
   "metadata": {},
   "outputs": [],
   "source": [
    "filtered_df = imdb_df[imdb_df[\"primaryTitle\"].isin(unique_titles_list)]"
   ]
  },
  {
   "cell_type": "code",
   "execution_count": 19,
   "id": "ffa54e93",
   "metadata": {},
   "outputs": [],
   "source": [
    "filtered_df.to_csv(\"SF_movie_IMDBratings.csv\", index=False)"
   ]
  },
  {
   "cell_type": "code",
   "execution_count": null,
   "id": "bc84b315",
   "metadata": {},
   "outputs": [],
   "source": []
  }
 ],
 "metadata": {
  "kernelspec": {
   "display_name": "Python 3 (ipykernel)",
   "language": "python",
   "name": "python3"
  },
  "language_info": {
   "codemirror_mode": {
    "name": "ipython",
    "version": 3
   },
   "file_extension": ".py",
   "mimetype": "text/x-python",
   "name": "python",
   "nbconvert_exporter": "python",
   "pygments_lexer": "ipython3",
   "version": "3.9.18"
  }
 },
 "nbformat": 4,
 "nbformat_minor": 5
}
